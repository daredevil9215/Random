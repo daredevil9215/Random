{
 "cells": [
  {
   "cell_type": "markdown",
   "metadata": {},
   "source": [
    "# Linear Congruential Generator\n",
    "\n",
    "$$x_{n+1} = (a \\cdot x_n + c) \\mod m$$\n",
    "\n",
    "- $m, 0 \\lt m$ - modulus\n",
    "- $a, 0 \\lt a \\lt m$ - multiplier\n",
    "- $c, 0 \\le c \\lt m$ - increment\n",
    "- $X_0, 0 \\le X_0 \\lt m$ - seed (most often system clock)\n",
    "\n",
    "***"
   ]
  },
  {
   "cell_type": "markdown",
   "metadata": {},
   "source": [
    "### glibc parameters\n",
    "- $m=2^{31}$\n",
    "- $a=1103515245$\n",
    "- $c=12345$\n",
    "\n",
    "### [List of parameters (wiki)](https://en.wikipedia.org/wiki/Linear_congruential_generator#Parameters_in_common_use)"
   ]
  },
  {
   "cell_type": "code",
   "execution_count": 99,
   "metadata": {},
   "outputs": [],
   "source": [
    "from time import time\n",
    "import matplotlib.pyplot as plt\n",
    "\n",
    "class LCG:\n",
    "\n",
    "    def __init__(self, a=1103515245, c=12345, m=2**31, seed=None):\n",
    "        self.a = a\n",
    "        self.c = c\n",
    "        self.m = m\n",
    "        self.seed = seed if seed is not None else int(time() * 1e5)\n",
    "\n",
    "    def _random_generator(self):\n",
    "        while True:\n",
    "            self.seed = (self.a * self.seed + self.c) % self.m\n",
    "            yield self.seed\n",
    "\n",
    "    def _random_uniform_generator(self):\n",
    "        while True:\n",
    "            self.seed = (self.a * self.seed + self.c) % self.m\n",
    "            yield self.seed / self.m\n",
    "\n",
    "    def random(self, samples=None):\n",
    "        if samples is not None:\n",
    "            return [next(self._random_generator()) for _ in range(samples)]\n",
    "        else:\n",
    "            return next(self._random_generator())\n",
    "    \n",
    "    def random_uniform(self, samples=None):\n",
    "        if samples is not None:\n",
    "            return [next(self._random_uniform_generator()) for _ in range(samples)]\n",
    "        else:\n",
    "            return next(self._random_uniform_generator())"
   ]
  },
  {
   "cell_type": "code",
   "execution_count": 114,
   "metadata": {},
   "outputs": [
    {
     "data": {
      "image/png": "[encoded data removed]",
      "text/plain": [
       "<Figure size 640x480 with 1 Axes>"
      ]
     },
     "metadata": {},
     "output_type": "display_data"
    }
   ],
   "source": [
    "lcg = LCG()\n",
    "\n",
    "uniform_random = lcg.random_uniform(samples=10000)\n",
    "plt.hist(uniform_random, edgecolor=\"black\", density=True)\n",
    "plt.show()"
   ]
  }
 ],
 "metadata": {
  "kernelspec": {
   "display_name": "Python_venv",
   "language": "python",
   "name": "python3"
  },
  "language_info": {
   "codemirror_mode": {
    "name": "ipython",
    "version": 3
   },
   "file_extension": ".py",
   "mimetype": "text/x-python",
   "name": "python",
   "nbconvert_exporter": "python",
   "pygments_lexer": "ipython3",
   "version": "3.10.12"
  }
 },
 "nbformat": 4,
 "nbformat_minor": 2
}
